{
 "cells": [
  {
   "cell_type": "markdown",
   "id": "dfff320b",
   "metadata": {
    "toc": true
   },
   "source": [
    "<h1>Содержание<span class=\"tocSkip\"></span></h1>\n",
    "<div class=\"toc\"><ul class=\"toc-item\"><li><span><a href=\"#Введение.\" data-toc-modified-id=\"Введение.-1\"><span class=\"toc-item-num\">1&nbsp;&nbsp;</span>Введение.</a></span></li><li><span><a href=\"#Обзор-данных.\" data-toc-modified-id=\"Обзор-данных.-2\"><span class=\"toc-item-num\">2&nbsp;&nbsp;</span>Обзор данных.</a></span></li><li><span><a href=\"#Посчитайте,-сколько-книг-вышло-после-1-января-2000-года.\" data-toc-modified-id=\"Посчитайте,-сколько-книг-вышло-после-1-января-2000-года.-3\"><span class=\"toc-item-num\">3&nbsp;&nbsp;</span>Посчитайте, сколько книг вышло после 1 января 2000 года.</a></span></li><li><span><a href=\"#Для-каждой-книги-посчитайте-количество-обзоров-и-среднюю-оценку.\" data-toc-modified-id=\"Для-каждой-книги-посчитайте-количество-обзоров-и-среднюю-оценку.-4\"><span class=\"toc-item-num\">4&nbsp;&nbsp;</span>Для каждой книги посчитайте количество обзоров и среднюю оценку.</a></span></li><li><span><a href=\"#Определите-издательство,-которое-выпустило-наибольшее-число-книг-толще-50-страниц-—-так-вы-исключите-из-анализа-брошюры.\" data-toc-modified-id=\"Определите-издательство,-которое-выпустило-наибольшее-число-книг-толще-50-страниц-—-так-вы-исключите-из-анализа-брошюры.-5\"><span class=\"toc-item-num\">5&nbsp;&nbsp;</span>Определите издательство, которое выпустило наибольшее число книг толще 50 страниц — так вы исключите из анализа брошюры.</a></span></li><li><span><a href=\"#Определите-автора-с-самой-высокой-средней-оценкой-книг-—-учитывайте-только-книги-с-50-и-более-оценками.\" data-toc-modified-id=\"Определите-автора-с-самой-высокой-средней-оценкой-книг-—-учитывайте-только-книги-с-50-и-более-оценками.-6\"><span class=\"toc-item-num\">6&nbsp;&nbsp;</span>Определите автора с самой высокой средней оценкой книг — учитывайте только книги с 50 и более оценками.</a></span></li><li><span><a href=\"#Посчитайте-среднее-количество-обзоров-от-пользователей,-которые-поставили-больше-50-оценок.\" data-toc-modified-id=\"Посчитайте-среднее-количество-обзоров-от-пользователей,-которые-поставили-больше-50-оценок.-7\"><span class=\"toc-item-num\">7&nbsp;&nbsp;</span>Посчитайте среднее количество обзоров от пользователей, которые поставили больше 50 оценок.</a></span></li><li><span><a href=\"#Вывод.\" data-toc-modified-id=\"Вывод.-8\"><span class=\"toc-item-num\">8&nbsp;&nbsp;</span>Вывод.</a></span></li></ul></div>"
   ]
  },
  {
   "cell_type": "markdown",
   "id": "cef085da",
   "metadata": {},
   "source": [
    "# Исследование базы данных с помощью SQL."
   ]
  },
  {
   "cell_type": "markdown",
   "id": "67c2f3ee",
   "metadata": {},
   "source": [
    "## Введение."
   ]
  },
  {
   "cell_type": "markdown",
   "id": "7e299334",
   "metadata": {},
   "source": [
    "Мы располагаем базой данных в которой хранятся информация о книгах, издательствах, авторах, а также пользовательские обзоры книг. \n",
    "\n",
    "Описание данных\n",
    "\n",
    "Таблица `books` - содержит данные о книгах:\n",
    "\n",
    "- `book_id` — идентификатор книги;\n",
    "- `author_id` — идентификатор автора;\n",
    "- `title` — название книги;\n",
    "- `num_pages` — количество страниц;\n",
    "- `publication_date` — дата публикации книги;\n",
    "- `publisher_id` — идентификатор издателя.\n",
    "\n",
    "Таблица `authors`- содержит данные об авторах:\n",
    "\n",
    "- `author_id` — идентификатор автора;\n",
    "- `author` — имя автора.\n",
    "\n",
    "Таблица `publishers`- содержит данные об издательствах:\n",
    "\n",
    "- `publisher_id` — идентификатор издательства;\n",
    "- `publisher` — название издательства;\n",
    "\n",
    "Таблица `ratings` - содержит данные о пользовательских оценках книг:\n",
    "\n",
    "- `rating_id` — идентификатор оценки;\n",
    "- `book_id` — идентификатор книги;\n",
    "- `username` — имя пользователя, оставившего оценку;\n",
    "- `rating` — оценка книги.\n",
    "\n",
    "Таблица `reviews`-содержит данные о пользовательских обзорах на книги:\n",
    "\n",
    "- `review_id` — идентификатор обзора;\n",
    "- `book_id` — идентификатор книги;\n",
    "- `username` — имя пользователя, написавшего обзор;\n",
    "- `text` — текст обзора.\n",
    "\n",
    "Цель исследования :\n",
    "\n",
    "Выполнить задания с помощью SQL:\n",
    "\n",
    "* Посчитайте, сколько книг вышло после 1 января 2000 года;\n",
    "\n",
    "* Для каждой книги посчитайте количество обзоров и среднюю оценку;\n",
    "\n",
    "* Определите издательство, которое выпустило наибольшее число книг толще 50 страниц — так вы исключите из анализа брошюры;\n",
    "\n",
    "* Определите автора с самой высокой средней оценкой книг — учитывайте только книги с 50 и более оценками;\n",
    "\n",
    "* Посчитайте среднее количество обзоров от пользователей, которые поставили больше 50 оценок.\n",
    "\n",
    "\n",
    "Ход исследования:\n",
    "\n",
    "Провести обзор и предобработку данных\n",
    "\n",
    "Сделать по одному SQL-запросу для решения каждого задания\n",
    "\n",
    "Проанализировать результаты "
   ]
  },
  {
   "cell_type": "markdown",
   "id": "de16236b",
   "metadata": {},
   "source": [
    "## Обзор данных."
   ]
  },
  {
   "cell_type": "code",
   "execution_count": 1,
   "id": "e4a70b0e",
   "metadata": {},
   "outputs": [],
   "source": [
    "# импортируем библиотеки\n",
    "import pandas as pd\n",
    "from sqlalchemy import text, create_engine"
   ]
  },
  {
   "cell_type": "code",
   "execution_count": 3,
   "id": "c0748bfa",
   "metadata": {},
   "outputs": [],
   "source": [
    "#функция для обзора данных\n",
    "def overview_df(table):\n",
    "    query = ''' SELECT * FROM {}; \n",
    "    '''.format(table) \n",
    "\n",
    "    data = pd.io.sql.read_sql(query, con = engine)\n",
    "    \n",
    "    print('Таблица', table )\n",
    "    print('')\n",
    "    print('...........Первые 5 строк...........')\n",
    "    display(data.head())\n",
    "    print('')\n",
    "    print('')\n",
    "    print('...........Тип данных...........')\n",
    "    print('')\n",
    "    print(data.info())\n",
    "    print('')\n",
    "    print('.................................................................................................................')"
   ]
  },
  {
   "cell_type": "code",
   "execution_count": 4,
   "id": "6a89f590",
   "metadata": {
    "scrolled": false
   },
   "outputs": [
    {
     "name": "stdout",
     "output_type": "stream",
     "text": [
      "Таблица books\n",
      "\n",
      "...........Первые 5 строк...........\n"
     ]
    },
    {
     "data": {
      "text/html": [
       "<div>\n",
       "<style scoped>\n",
       "    .dataframe tbody tr th:only-of-type {\n",
       "        vertical-align: middle;\n",
       "    }\n",
       "\n",
       "    .dataframe tbody tr th {\n",
       "        vertical-align: top;\n",
       "    }\n",
       "\n",
       "    .dataframe thead th {\n",
       "        text-align: right;\n",
       "    }\n",
       "</style>\n",
       "<table border=\"1\" class=\"dataframe\">\n",
       "  <thead>\n",
       "    <tr style=\"text-align: right;\">\n",
       "      <th></th>\n",
       "      <th>book_id</th>\n",
       "      <th>author_id</th>\n",
       "      <th>title</th>\n",
       "      <th>num_pages</th>\n",
       "      <th>publication_date</th>\n",
       "      <th>publisher_id</th>\n",
       "    </tr>\n",
       "  </thead>\n",
       "  <tbody>\n",
       "    <tr>\n",
       "      <th>0</th>\n",
       "      <td>1</td>\n",
       "      <td>546</td>\n",
       "      <td>'Salem's Lot</td>\n",
       "      <td>594</td>\n",
       "      <td>2005-11-01</td>\n",
       "      <td>93</td>\n",
       "    </tr>\n",
       "    <tr>\n",
       "      <th>1</th>\n",
       "      <td>2</td>\n",
       "      <td>465</td>\n",
       "      <td>1 000 Places to See Before You Die</td>\n",
       "      <td>992</td>\n",
       "      <td>2003-05-22</td>\n",
       "      <td>336</td>\n",
       "    </tr>\n",
       "    <tr>\n",
       "      <th>2</th>\n",
       "      <td>3</td>\n",
       "      <td>407</td>\n",
       "      <td>13 Little Blue Envelopes (Little Blue Envelope...</td>\n",
       "      <td>322</td>\n",
       "      <td>2010-12-21</td>\n",
       "      <td>135</td>\n",
       "    </tr>\n",
       "    <tr>\n",
       "      <th>3</th>\n",
       "      <td>4</td>\n",
       "      <td>82</td>\n",
       "      <td>1491: New Revelations of the Americas Before C...</td>\n",
       "      <td>541</td>\n",
       "      <td>2006-10-10</td>\n",
       "      <td>309</td>\n",
       "    </tr>\n",
       "    <tr>\n",
       "      <th>4</th>\n",
       "      <td>5</td>\n",
       "      <td>125</td>\n",
       "      <td>1776</td>\n",
       "      <td>386</td>\n",
       "      <td>2006-07-04</td>\n",
       "      <td>268</td>\n",
       "    </tr>\n",
       "  </tbody>\n",
       "</table>\n",
       "</div>"
      ],
      "text/plain": [
       "   book_id  author_id                                              title  \\\n",
       "0        1        546                                       'Salem's Lot   \n",
       "1        2        465                 1 000 Places to See Before You Die   \n",
       "2        3        407  13 Little Blue Envelopes (Little Blue Envelope...   \n",
       "3        4         82  1491: New Revelations of the Americas Before C...   \n",
       "4        5        125                                               1776   \n",
       "\n",
       "   num_pages publication_date  publisher_id  \n",
       "0        594       2005-11-01            93  \n",
       "1        992       2003-05-22           336  \n",
       "2        322       2010-12-21           135  \n",
       "3        541       2006-10-10           309  \n",
       "4        386       2006-07-04           268  "
      ]
     },
     "metadata": {},
     "output_type": "display_data"
    },
    {
     "name": "stdout",
     "output_type": "stream",
     "text": [
      "\n",
      "\n",
      "...........Тип данных...........\n",
      "\n",
      "<class 'pandas.core.frame.DataFrame'>\n",
      "RangeIndex: 1000 entries, 0 to 999\n",
      "Data columns (total 6 columns):\n",
      " #   Column            Non-Null Count  Dtype \n",
      "---  ------            --------------  ----- \n",
      " 0   book_id           1000 non-null   int64 \n",
      " 1   author_id         1000 non-null   int64 \n",
      " 2   title             1000 non-null   object\n",
      " 3   num_pages         1000 non-null   int64 \n",
      " 4   publication_date  1000 non-null   object\n",
      " 5   publisher_id      1000 non-null   int64 \n",
      "dtypes: int64(4), object(2)\n",
      "memory usage: 47.0+ KB\n",
      "None\n",
      "\n",
      ".................................................................................................................\n",
      "None\n",
      "Таблица authors\n",
      "\n",
      "...........Первые 5 строк...........\n"
     ]
    },
    {
     "data": {
      "text/html": [
       "<div>\n",
       "<style scoped>\n",
       "    .dataframe tbody tr th:only-of-type {\n",
       "        vertical-align: middle;\n",
       "    }\n",
       "\n",
       "    .dataframe tbody tr th {\n",
       "        vertical-align: top;\n",
       "    }\n",
       "\n",
       "    .dataframe thead th {\n",
       "        text-align: right;\n",
       "    }\n",
       "</style>\n",
       "<table border=\"1\" class=\"dataframe\">\n",
       "  <thead>\n",
       "    <tr style=\"text-align: right;\">\n",
       "      <th></th>\n",
       "      <th>author_id</th>\n",
       "      <th>author</th>\n",
       "    </tr>\n",
       "  </thead>\n",
       "  <tbody>\n",
       "    <tr>\n",
       "      <th>0</th>\n",
       "      <td>1</td>\n",
       "      <td>A.S. Byatt</td>\n",
       "    </tr>\n",
       "    <tr>\n",
       "      <th>1</th>\n",
       "      <td>2</td>\n",
       "      <td>Aesop/Laura Harris/Laura Gibbs</td>\n",
       "    </tr>\n",
       "    <tr>\n",
       "      <th>2</th>\n",
       "      <td>3</td>\n",
       "      <td>Agatha Christie</td>\n",
       "    </tr>\n",
       "    <tr>\n",
       "      <th>3</th>\n",
       "      <td>4</td>\n",
       "      <td>Alan Brennert</td>\n",
       "    </tr>\n",
       "    <tr>\n",
       "      <th>4</th>\n",
       "      <td>5</td>\n",
       "      <td>Alan Moore/David   Lloyd</td>\n",
       "    </tr>\n",
       "  </tbody>\n",
       "</table>\n",
       "</div>"
      ],
      "text/plain": [
       "   author_id                          author\n",
       "0          1                      A.S. Byatt\n",
       "1          2  Aesop/Laura Harris/Laura Gibbs\n",
       "2          3                 Agatha Christie\n",
       "3          4                   Alan Brennert\n",
       "4          5        Alan Moore/David   Lloyd"
      ]
     },
     "metadata": {},
     "output_type": "display_data"
    },
    {
     "name": "stdout",
     "output_type": "stream",
     "text": [
      "\n",
      "\n",
      "...........Тип данных...........\n",
      "\n",
      "<class 'pandas.core.frame.DataFrame'>\n",
      "RangeIndex: 636 entries, 0 to 635\n",
      "Data columns (total 2 columns):\n",
      " #   Column     Non-Null Count  Dtype \n",
      "---  ------     --------------  ----- \n",
      " 0   author_id  636 non-null    int64 \n",
      " 1   author     636 non-null    object\n",
      "dtypes: int64(1), object(1)\n",
      "memory usage: 10.1+ KB\n",
      "None\n",
      "\n",
      ".................................................................................................................\n",
      "None\n",
      "Таблица publishers\n",
      "\n",
      "...........Первые 5 строк...........\n"
     ]
    },
    {
     "data": {
      "text/html": [
       "<div>\n",
       "<style scoped>\n",
       "    .dataframe tbody tr th:only-of-type {\n",
       "        vertical-align: middle;\n",
       "    }\n",
       "\n",
       "    .dataframe tbody tr th {\n",
       "        vertical-align: top;\n",
       "    }\n",
       "\n",
       "    .dataframe thead th {\n",
       "        text-align: right;\n",
       "    }\n",
       "</style>\n",
       "<table border=\"1\" class=\"dataframe\">\n",
       "  <thead>\n",
       "    <tr style=\"text-align: right;\">\n",
       "      <th></th>\n",
       "      <th>publisher_id</th>\n",
       "      <th>publisher</th>\n",
       "    </tr>\n",
       "  </thead>\n",
       "  <tbody>\n",
       "    <tr>\n",
       "      <th>0</th>\n",
       "      <td>1</td>\n",
       "      <td>Ace</td>\n",
       "    </tr>\n",
       "    <tr>\n",
       "      <th>1</th>\n",
       "      <td>2</td>\n",
       "      <td>Ace Book</td>\n",
       "    </tr>\n",
       "    <tr>\n",
       "      <th>2</th>\n",
       "      <td>3</td>\n",
       "      <td>Ace Books</td>\n",
       "    </tr>\n",
       "    <tr>\n",
       "      <th>3</th>\n",
       "      <td>4</td>\n",
       "      <td>Ace Hardcover</td>\n",
       "    </tr>\n",
       "    <tr>\n",
       "      <th>4</th>\n",
       "      <td>5</td>\n",
       "      <td>Addison Wesley Publishing Company</td>\n",
       "    </tr>\n",
       "  </tbody>\n",
       "</table>\n",
       "</div>"
      ],
      "text/plain": [
       "   publisher_id                          publisher\n",
       "0             1                                Ace\n",
       "1             2                           Ace Book\n",
       "2             3                          Ace Books\n",
       "3             4                      Ace Hardcover\n",
       "4             5  Addison Wesley Publishing Company"
      ]
     },
     "metadata": {},
     "output_type": "display_data"
    },
    {
     "name": "stdout",
     "output_type": "stream",
     "text": [
      "\n",
      "\n",
      "...........Тип данных...........\n",
      "\n",
      "<class 'pandas.core.frame.DataFrame'>\n",
      "RangeIndex: 340 entries, 0 to 339\n",
      "Data columns (total 2 columns):\n",
      " #   Column        Non-Null Count  Dtype \n",
      "---  ------        --------------  ----- \n",
      " 0   publisher_id  340 non-null    int64 \n",
      " 1   publisher     340 non-null    object\n",
      "dtypes: int64(1), object(1)\n",
      "memory usage: 5.4+ KB\n",
      "None\n",
      "\n",
      ".................................................................................................................\n",
      "None\n",
      "Таблица ratings\n",
      "\n",
      "...........Первые 5 строк...........\n"
     ]
    },
    {
     "data": {
      "text/html": [
       "<div>\n",
       "<style scoped>\n",
       "    .dataframe tbody tr th:only-of-type {\n",
       "        vertical-align: middle;\n",
       "    }\n",
       "\n",
       "    .dataframe tbody tr th {\n",
       "        vertical-align: top;\n",
       "    }\n",
       "\n",
       "    .dataframe thead th {\n",
       "        text-align: right;\n",
       "    }\n",
       "</style>\n",
       "<table border=\"1\" class=\"dataframe\">\n",
       "  <thead>\n",
       "    <tr style=\"text-align: right;\">\n",
       "      <th></th>\n",
       "      <th>rating_id</th>\n",
       "      <th>book_id</th>\n",
       "      <th>username</th>\n",
       "      <th>rating</th>\n",
       "    </tr>\n",
       "  </thead>\n",
       "  <tbody>\n",
       "    <tr>\n",
       "      <th>0</th>\n",
       "      <td>1</td>\n",
       "      <td>1</td>\n",
       "      <td>ryanfranco</td>\n",
       "      <td>4</td>\n",
       "    </tr>\n",
       "    <tr>\n",
       "      <th>1</th>\n",
       "      <td>2</td>\n",
       "      <td>1</td>\n",
       "      <td>grantpatricia</td>\n",
       "      <td>2</td>\n",
       "    </tr>\n",
       "    <tr>\n",
       "      <th>2</th>\n",
       "      <td>3</td>\n",
       "      <td>1</td>\n",
       "      <td>brandtandrea</td>\n",
       "      <td>5</td>\n",
       "    </tr>\n",
       "    <tr>\n",
       "      <th>3</th>\n",
       "      <td>4</td>\n",
       "      <td>2</td>\n",
       "      <td>lorichen</td>\n",
       "      <td>3</td>\n",
       "    </tr>\n",
       "    <tr>\n",
       "      <th>4</th>\n",
       "      <td>5</td>\n",
       "      <td>2</td>\n",
       "      <td>mariokeller</td>\n",
       "      <td>2</td>\n",
       "    </tr>\n",
       "  </tbody>\n",
       "</table>\n",
       "</div>"
      ],
      "text/plain": [
       "   rating_id  book_id       username  rating\n",
       "0          1        1     ryanfranco       4\n",
       "1          2        1  grantpatricia       2\n",
       "2          3        1   brandtandrea       5\n",
       "3          4        2       lorichen       3\n",
       "4          5        2    mariokeller       2"
      ]
     },
     "metadata": {},
     "output_type": "display_data"
    },
    {
     "name": "stdout",
     "output_type": "stream",
     "text": [
      "\n",
      "\n",
      "...........Тип данных...........\n",
      "\n",
      "<class 'pandas.core.frame.DataFrame'>\n",
      "RangeIndex: 6456 entries, 0 to 6455\n",
      "Data columns (total 4 columns):\n",
      " #   Column     Non-Null Count  Dtype \n",
      "---  ------     --------------  ----- \n",
      " 0   rating_id  6456 non-null   int64 \n",
      " 1   book_id    6456 non-null   int64 \n",
      " 2   username   6456 non-null   object\n",
      " 3   rating     6456 non-null   int64 \n",
      "dtypes: int64(3), object(1)\n",
      "memory usage: 201.9+ KB\n",
      "None\n",
      "\n",
      ".................................................................................................................\n",
      "None\n",
      "Таблица reviews\n",
      "\n",
      "...........Первые 5 строк...........\n"
     ]
    },
    {
     "data": {
      "text/html": [
       "<div>\n",
       "<style scoped>\n",
       "    .dataframe tbody tr th:only-of-type {\n",
       "        vertical-align: middle;\n",
       "    }\n",
       "\n",
       "    .dataframe tbody tr th {\n",
       "        vertical-align: top;\n",
       "    }\n",
       "\n",
       "    .dataframe thead th {\n",
       "        text-align: right;\n",
       "    }\n",
       "</style>\n",
       "<table border=\"1\" class=\"dataframe\">\n",
       "  <thead>\n",
       "    <tr style=\"text-align: right;\">\n",
       "      <th></th>\n",
       "      <th>review_id</th>\n",
       "      <th>book_id</th>\n",
       "      <th>username</th>\n",
       "      <th>text</th>\n",
       "    </tr>\n",
       "  </thead>\n",
       "  <tbody>\n",
       "    <tr>\n",
       "      <th>0</th>\n",
       "      <td>1</td>\n",
       "      <td>1</td>\n",
       "      <td>brandtandrea</td>\n",
       "      <td>Mention society tell send professor analysis. ...</td>\n",
       "    </tr>\n",
       "    <tr>\n",
       "      <th>1</th>\n",
       "      <td>2</td>\n",
       "      <td>1</td>\n",
       "      <td>ryanfranco</td>\n",
       "      <td>Foot glass pretty audience hit themselves. Amo...</td>\n",
       "    </tr>\n",
       "    <tr>\n",
       "      <th>2</th>\n",
       "      <td>3</td>\n",
       "      <td>2</td>\n",
       "      <td>lorichen</td>\n",
       "      <td>Listen treat keep worry. Miss husband tax but ...</td>\n",
       "    </tr>\n",
       "    <tr>\n",
       "      <th>3</th>\n",
       "      <td>4</td>\n",
       "      <td>3</td>\n",
       "      <td>johnsonamanda</td>\n",
       "      <td>Finally month interesting blue could nature cu...</td>\n",
       "    </tr>\n",
       "    <tr>\n",
       "      <th>4</th>\n",
       "      <td>5</td>\n",
       "      <td>3</td>\n",
       "      <td>scotttamara</td>\n",
       "      <td>Nation purpose heavy give wait song will. List...</td>\n",
       "    </tr>\n",
       "  </tbody>\n",
       "</table>\n",
       "</div>"
      ],
      "text/plain": [
       "   review_id  book_id       username  \\\n",
       "0          1        1   brandtandrea   \n",
       "1          2        1     ryanfranco   \n",
       "2          3        2       lorichen   \n",
       "3          4        3  johnsonamanda   \n",
       "4          5        3    scotttamara   \n",
       "\n",
       "                                                text  \n",
       "0  Mention society tell send professor analysis. ...  \n",
       "1  Foot glass pretty audience hit themselves. Amo...  \n",
       "2  Listen treat keep worry. Miss husband tax but ...  \n",
       "3  Finally month interesting blue could nature cu...  \n",
       "4  Nation purpose heavy give wait song will. List...  "
      ]
     },
     "metadata": {},
     "output_type": "display_data"
    },
    {
     "name": "stdout",
     "output_type": "stream",
     "text": [
      "\n",
      "\n",
      "...........Тип данных...........\n",
      "\n",
      "<class 'pandas.core.frame.DataFrame'>\n",
      "RangeIndex: 2793 entries, 0 to 2792\n",
      "Data columns (total 4 columns):\n",
      " #   Column     Non-Null Count  Dtype \n",
      "---  ------     --------------  ----- \n",
      " 0   review_id  2793 non-null   int64 \n",
      " 1   book_id    2793 non-null   int64 \n",
      " 2   username   2793 non-null   object\n",
      " 3   text       2793 non-null   object\n",
      "dtypes: int64(2), object(2)\n",
      "memory usage: 87.4+ KB\n",
      "None\n",
      "\n",
      ".................................................................................................................\n",
      "None\n"
     ]
    }
   ],
   "source": [
    "for table in ['books', 'authors', 'publishers', 'ratings', 'reviews']:\n",
    "    print(overview_df(table))"
   ]
  },
  {
   "cell_type": "markdown",
   "id": "fd87e33e",
   "metadata": {},
   "source": [
    "Данные представлены в корректном виде."
   ]
  },
  {
   "cell_type": "markdown",
   "id": "430c541e",
   "metadata": {},
   "source": [
    "## Посчитайте, сколько книг вышло после 1 января 2000 года."
   ]
  },
  {
   "cell_type": "code",
   "execution_count": 5,
   "id": "2e61039b",
   "metadata": {},
   "outputs": [
    {
     "data": {
      "text/html": [
       "<div>\n",
       "<style scoped>\n",
       "    .dataframe tbody tr th:only-of-type {\n",
       "        vertical-align: middle;\n",
       "    }\n",
       "\n",
       "    .dataframe tbody tr th {\n",
       "        vertical-align: top;\n",
       "    }\n",
       "\n",
       "    .dataframe thead th {\n",
       "        text-align: right;\n",
       "    }\n",
       "</style>\n",
       "<table border=\"1\" class=\"dataframe\">\n",
       "  <thead>\n",
       "    <tr style=\"text-align: right;\">\n",
       "      <th></th>\n",
       "      <th>count</th>\n",
       "    </tr>\n",
       "  </thead>\n",
       "  <tbody>\n",
       "    <tr>\n",
       "      <th>0</th>\n",
       "      <td>819</td>\n",
       "    </tr>\n",
       "  </tbody>\n",
       "</table>\n",
       "</div>"
      ],
      "text/plain": [
       "   count\n",
       "0    819"
      ]
     },
     "execution_count": 5,
     "metadata": {},
     "output_type": "execute_result"
    }
   ],
   "source": [
    "query1 = ''' \n",
    "SELECT COUNT(*) \n",
    "FROM books\n",
    "WHERE publication_date > '2000-01-01'; \n",
    "''' \n",
    "request1 = pd.io.sql.read_sql(query1, con = engine)\n",
    "request1"
   ]
  },
  {
   "cell_type": "markdown",
   "id": "ef9c0d8c",
   "metadata": {},
   "source": [
    "После 1 января 2000 года вышло **819 книг**."
   ]
  },
  {
   "cell_type": "markdown",
   "id": "ccfaa3d0",
   "metadata": {},
   "source": [
    "## Для каждой книги посчитайте количество обзоров и среднюю оценку."
   ]
  },
  {
   "cell_type": "code",
   "execution_count": 6,
   "id": "4b6a958a",
   "metadata": {
    "scrolled": true
   },
   "outputs": [
    {
     "data": {
      "text/html": [
       "<div>\n",
       "<style scoped>\n",
       "    .dataframe tbody tr th:only-of-type {\n",
       "        vertical-align: middle;\n",
       "    }\n",
       "\n",
       "    .dataframe tbody tr th {\n",
       "        vertical-align: top;\n",
       "    }\n",
       "\n",
       "    .dataframe thead th {\n",
       "        text-align: right;\n",
       "    }\n",
       "</style>\n",
       "<table border=\"1\" class=\"dataframe\">\n",
       "  <thead>\n",
       "    <tr style=\"text-align: right;\">\n",
       "      <th></th>\n",
       "      <th>book_id</th>\n",
       "      <th>reviews_cnt</th>\n",
       "      <th>avg_rating</th>\n",
       "    </tr>\n",
       "  </thead>\n",
       "  <tbody>\n",
       "    <tr>\n",
       "      <th>0</th>\n",
       "      <td>1.0</td>\n",
       "      <td>2.0</td>\n",
       "      <td>3.666667</td>\n",
       "    </tr>\n",
       "    <tr>\n",
       "      <th>1</th>\n",
       "      <td>2.0</td>\n",
       "      <td>1.0</td>\n",
       "      <td>2.500000</td>\n",
       "    </tr>\n",
       "    <tr>\n",
       "      <th>2</th>\n",
       "      <td>3.0</td>\n",
       "      <td>3.0</td>\n",
       "      <td>4.666667</td>\n",
       "    </tr>\n",
       "    <tr>\n",
       "      <th>3</th>\n",
       "      <td>4.0</td>\n",
       "      <td>2.0</td>\n",
       "      <td>4.500000</td>\n",
       "    </tr>\n",
       "    <tr>\n",
       "      <th>4</th>\n",
       "      <td>5.0</td>\n",
       "      <td>4.0</td>\n",
       "      <td>4.000000</td>\n",
       "    </tr>\n",
       "    <tr>\n",
       "      <th>...</th>\n",
       "      <td>...</td>\n",
       "      <td>...</td>\n",
       "      <td>...</td>\n",
       "    </tr>\n",
       "    <tr>\n",
       "      <th>995</th>\n",
       "      <td>996.0</td>\n",
       "      <td>3.0</td>\n",
       "      <td>3.666667</td>\n",
       "    </tr>\n",
       "    <tr>\n",
       "      <th>996</th>\n",
       "      <td>997.0</td>\n",
       "      <td>3.0</td>\n",
       "      <td>3.400000</td>\n",
       "    </tr>\n",
       "    <tr>\n",
       "      <th>997</th>\n",
       "      <td>998.0</td>\n",
       "      <td>4.0</td>\n",
       "      <td>3.200000</td>\n",
       "    </tr>\n",
       "    <tr>\n",
       "      <th>998</th>\n",
       "      <td>999.0</td>\n",
       "      <td>2.0</td>\n",
       "      <td>4.500000</td>\n",
       "    </tr>\n",
       "    <tr>\n",
       "      <th>999</th>\n",
       "      <td>1000.0</td>\n",
       "      <td>4.0</td>\n",
       "      <td>3.833333</td>\n",
       "    </tr>\n",
       "  </tbody>\n",
       "</table>\n",
       "<p>1000 rows × 3 columns</p>\n",
       "</div>"
      ],
      "text/plain": [
       "     book_id  reviews_cnt  avg_rating\n",
       "0        1.0          2.0    3.666667\n",
       "1        2.0          1.0    2.500000\n",
       "2        3.0          3.0    4.666667\n",
       "3        4.0          2.0    4.500000\n",
       "4        5.0          4.0    4.000000\n",
       "..       ...          ...         ...\n",
       "995    996.0          3.0    3.666667\n",
       "996    997.0          3.0    3.400000\n",
       "997    998.0          4.0    3.200000\n",
       "998    999.0          2.0    4.500000\n",
       "999   1000.0          4.0    3.833333\n",
       "\n",
       "[1000 rows x 3 columns]"
      ]
     },
     "execution_count": 6,
     "metadata": {},
     "output_type": "execute_result"
    }
   ],
   "source": [
    "query2 = ''' \n",
    "WITH a AS (SELECT r.book_id,\n",
    "AVG(r.rating) AS avg_rating\n",
    "FROM ratings AS r\n",
    "GROUP BY r.book_id\n",
    "),\n",
    "b AS (SELECT book_id,\n",
    "COUNT(review_id) AS reviews_cnt \n",
    "FROM reviews\n",
    "GROUP BY book_id)\n",
    "\n",
    "SELECT b.book_id,\n",
    "b.reviews_cnt,\n",
    "a.avg_rating\n",
    "FROM b\n",
    "FULL OUTER JOIN a ON a.book_id = b.book_id\n",
    "''' \n",
    "request2 = pd.io.sql.read_sql(query2, con = engine)\n",
    "request2"
   ]
  },
  {
   "cell_type": "code",
   "execution_count": 7,
   "id": "46ed628b",
   "metadata": {},
   "outputs": [
    {
     "data": {
      "text/html": [
       "<div>\n",
       "<style scoped>\n",
       "    .dataframe tbody tr th:only-of-type {\n",
       "        vertical-align: middle;\n",
       "    }\n",
       "\n",
       "    .dataframe tbody tr th {\n",
       "        vertical-align: top;\n",
       "    }\n",
       "\n",
       "    .dataframe thead th {\n",
       "        text-align: right;\n",
       "    }\n",
       "</style>\n",
       "<table border=\"1\" class=\"dataframe\">\n",
       "  <thead>\n",
       "    <tr style=\"text-align: right;\">\n",
       "      <th></th>\n",
       "      <th>book_id</th>\n",
       "      <th>reviews_cnt</th>\n",
       "      <th>avg_rating</th>\n",
       "    </tr>\n",
       "  </thead>\n",
       "  <tbody>\n",
       "    <tr>\n",
       "      <th>count</th>\n",
       "      <td>994.000000</td>\n",
       "      <td>994.000000</td>\n",
       "      <td>1000.000000</td>\n",
       "    </tr>\n",
       "    <tr>\n",
       "      <th>mean</th>\n",
       "      <td>501.144869</td>\n",
       "      <td>2.809859</td>\n",
       "      <td>3.898973</td>\n",
       "    </tr>\n",
       "    <tr>\n",
       "      <th>std</th>\n",
       "      <td>288.845619</td>\n",
       "      <td>1.055873</td>\n",
       "      <td>0.562376</td>\n",
       "    </tr>\n",
       "    <tr>\n",
       "      <th>min</th>\n",
       "      <td>1.000000</td>\n",
       "      <td>1.000000</td>\n",
       "      <td>1.500000</td>\n",
       "    </tr>\n",
       "    <tr>\n",
       "      <th>25%</th>\n",
       "      <td>252.250000</td>\n",
       "      <td>2.000000</td>\n",
       "      <td>3.500000</td>\n",
       "    </tr>\n",
       "    <tr>\n",
       "      <th>50%</th>\n",
       "      <td>501.500000</td>\n",
       "      <td>3.000000</td>\n",
       "      <td>4.000000</td>\n",
       "    </tr>\n",
       "    <tr>\n",
       "      <th>75%</th>\n",
       "      <td>750.750000</td>\n",
       "      <td>3.000000</td>\n",
       "      <td>4.333333</td>\n",
       "    </tr>\n",
       "    <tr>\n",
       "      <th>max</th>\n",
       "      <td>1000.000000</td>\n",
       "      <td>7.000000</td>\n",
       "      <td>5.000000</td>\n",
       "    </tr>\n",
       "  </tbody>\n",
       "</table>\n",
       "</div>"
      ],
      "text/plain": [
       "           book_id  reviews_cnt   avg_rating\n",
       "count   994.000000   994.000000  1000.000000\n",
       "mean    501.144869     2.809859     3.898973\n",
       "std     288.845619     1.055873     0.562376\n",
       "min       1.000000     1.000000     1.500000\n",
       "25%     252.250000     2.000000     3.500000\n",
       "50%     501.500000     3.000000     4.000000\n",
       "75%     750.750000     3.000000     4.333333\n",
       "max    1000.000000     7.000000     5.000000"
      ]
     },
     "execution_count": 7,
     "metadata": {},
     "output_type": "execute_result"
    }
   ],
   "source": [
    "request2.describe()"
   ]
  },
  {
   "cell_type": "code",
   "execution_count": 8,
   "id": "70f231a4",
   "metadata": {},
   "outputs": [
    {
     "data": {
      "text/html": [
       "<div>\n",
       "<style scoped>\n",
       "    .dataframe tbody tr th:only-of-type {\n",
       "        vertical-align: middle;\n",
       "    }\n",
       "\n",
       "    .dataframe tbody tr th {\n",
       "        vertical-align: top;\n",
       "    }\n",
       "\n",
       "    .dataframe thead th {\n",
       "        text-align: right;\n",
       "    }\n",
       "</style>\n",
       "<table border=\"1\" class=\"dataframe\">\n",
       "  <thead>\n",
       "    <tr style=\"text-align: right;\">\n",
       "      <th></th>\n",
       "      <th>count</th>\n",
       "    </tr>\n",
       "  </thead>\n",
       "  <tbody>\n",
       "    <tr>\n",
       "      <th>0</th>\n",
       "      <td>1000</td>\n",
       "    </tr>\n",
       "  </tbody>\n",
       "</table>\n",
       "</div>"
      ],
      "text/plain": [
       "   count\n",
       "0   1000"
      ]
     },
     "execution_count": 8,
     "metadata": {},
     "output_type": "execute_result"
    }
   ],
   "source": [
    "query = ''' \n",
    "SELECT COUNT(*) \n",
    "FROM books\n",
    "; \n",
    "''' \n",
    "request = pd.io.sql.read_sql(query, con = engine)\n",
    "request"
   ]
  },
  {
   "cell_type": "markdown",
   "id": "8e0591c4",
   "metadata": {},
   "source": [
    "Количество книг совпадает. "
   ]
  },
  {
   "cell_type": "markdown",
   "id": "022306f3",
   "metadata": {},
   "source": [
    "## Определите издательство, которое выпустило наибольшее число книг толще 50 страниц — так вы исключите из анализа брошюры."
   ]
  },
  {
   "cell_type": "code",
   "execution_count": 9,
   "id": "40412dbd",
   "metadata": {},
   "outputs": [
    {
     "data": {
      "text/html": [
       "<div>\n",
       "<style scoped>\n",
       "    .dataframe tbody tr th:only-of-type {\n",
       "        vertical-align: middle;\n",
       "    }\n",
       "\n",
       "    .dataframe tbody tr th {\n",
       "        vertical-align: top;\n",
       "    }\n",
       "\n",
       "    .dataframe thead th {\n",
       "        text-align: right;\n",
       "    }\n",
       "</style>\n",
       "<table border=\"1\" class=\"dataframe\">\n",
       "  <thead>\n",
       "    <tr style=\"text-align: right;\">\n",
       "      <th></th>\n",
       "      <th>publisher</th>\n",
       "      <th>books_cnt</th>\n",
       "    </tr>\n",
       "  </thead>\n",
       "  <tbody>\n",
       "    <tr>\n",
       "      <th>0</th>\n",
       "      <td>Penguin Books</td>\n",
       "      <td>42</td>\n",
       "    </tr>\n",
       "  </tbody>\n",
       "</table>\n",
       "</div>"
      ],
      "text/plain": [
       "       publisher  books_cnt\n",
       "0  Penguin Books         42"
      ]
     },
     "execution_count": 9,
     "metadata": {},
     "output_type": "execute_result"
    }
   ],
   "source": [
    "query3 = ''' \n",
    "WITH a AS (SELECT book_id,\n",
    "publisher_id\n",
    "FROM books\n",
    "WHERE num_pages > 50)\n",
    "\n",
    "SELECT p.publisher,\n",
    "COUNT(a.book_id) AS books_cnt\n",
    "FROM a \n",
    "JOIN  publishers AS p ON a.publisher_id = p.publisher_id\n",
    "GROUP BY p.publisher\n",
    "ORDER BY books_cnt DESC\n",
    "LIMIT 1\n",
    "; \n",
    "\n",
    "''' \n",
    "request3 = pd.io.sql.read_sql(query3, con = engine)\n",
    "request3"
   ]
  },
  {
   "cell_type": "markdown",
   "id": "57ed9c6f",
   "metadata": {},
   "source": [
    "Издательство, которое выпустило наибольшее число книг толще 50 страниц - **Penguin Books**. Это британское издательство, основанное в 1935 году в Лондоне. В 2001 году издательство стало проигрывать в США своему основному тамошнему конкуренту — издательству Random House. В 2013 году они объединились, создав первую в мире глобальную издательскую компанию. "
   ]
  },
  {
   "cell_type": "markdown",
   "id": "a2a653ee",
   "metadata": {},
   "source": [
    "## Определите автора с самой высокой средней оценкой книг — учитывайте только книги с 50 и более оценками."
   ]
  },
  {
   "cell_type": "code",
   "execution_count": 10,
   "id": "b169e8d5",
   "metadata": {},
   "outputs": [
    {
     "data": {
      "text/html": [
       "<div>\n",
       "<style scoped>\n",
       "    .dataframe tbody tr th:only-of-type {\n",
       "        vertical-align: middle;\n",
       "    }\n",
       "\n",
       "    .dataframe tbody tr th {\n",
       "        vertical-align: top;\n",
       "    }\n",
       "\n",
       "    .dataframe thead th {\n",
       "        text-align: right;\n",
       "    }\n",
       "</style>\n",
       "<table border=\"1\" class=\"dataframe\">\n",
       "  <thead>\n",
       "    <tr style=\"text-align: right;\">\n",
       "      <th></th>\n",
       "      <th>author</th>\n",
       "      <th>avg</th>\n",
       "    </tr>\n",
       "  </thead>\n",
       "  <tbody>\n",
       "    <tr>\n",
       "      <th>0</th>\n",
       "      <td>J.K. Rowling/Mary GrandPré</td>\n",
       "      <td>4.283844</td>\n",
       "    </tr>\n",
       "  </tbody>\n",
       "</table>\n",
       "</div>"
      ],
      "text/plain": [
       "                       author       avg\n",
       "0  J.K. Rowling/Mary GrandPré  4.283844"
      ]
     },
     "execution_count": 10,
     "metadata": {},
     "output_type": "execute_result"
    }
   ],
   "source": [
    "query4 = ''' \n",
    "WITH r AS (SELECT book_id,\n",
    "COUNT(rating) AS rating_CNT,\n",
    "AVG(rating) AS avg_rating\n",
    "FROM ratings \n",
    "GROUP BY book_id\n",
    "HAVING COUNT(rating) >= 50)\n",
    "\n",
    "SELECT a.author,\n",
    "AVG(r.avg_rating)\n",
    "FROM authors AS a\n",
    "JOIN books AS b ON a.author_id=b.author_id\n",
    "RIGHT JOIN r ON r.book_id = b.book_id\n",
    "GROUP BY a.author\n",
    "ORDER BY AVG(r.avg_rating) DESC\n",
    "LIMIT 1\n",
    "; \n",
    "\n",
    "''' \n",
    "request4 = pd.io.sql.read_sql(query4, con = engine)\n",
    "request4\n"
   ]
  },
  {
   "cell_type": "code",
   "execution_count": 11,
   "id": "737808fb",
   "metadata": {},
   "outputs": [
    {
     "data": {
      "text/html": [
       "<div>\n",
       "<style scoped>\n",
       "    .dataframe tbody tr th:only-of-type {\n",
       "        vertical-align: middle;\n",
       "    }\n",
       "\n",
       "    .dataframe tbody tr th {\n",
       "        vertical-align: top;\n",
       "    }\n",
       "\n",
       "    .dataframe thead th {\n",
       "        text-align: right;\n",
       "    }\n",
       "</style>\n",
       "<table border=\"1\" class=\"dataframe\">\n",
       "  <thead>\n",
       "    <tr style=\"text-align: right;\">\n",
       "      <th></th>\n",
       "      <th>author</th>\n",
       "      <th>avg_rating</th>\n",
       "    </tr>\n",
       "  </thead>\n",
       "  <tbody>\n",
       "    <tr>\n",
       "      <th>0</th>\n",
       "      <td>J.K. Rowling/Mary GrandPré</td>\n",
       "      <td>4.287097</td>\n",
       "    </tr>\n",
       "  </tbody>\n",
       "</table>\n",
       "</div>"
      ],
      "text/plain": [
       "                       author  avg_rating\n",
       "0  J.K. Rowling/Mary GrandPré    4.287097"
      ]
     },
     "execution_count": 11,
     "metadata": {},
     "output_type": "execute_result"
    }
   ],
   "source": [
    "query40 = ''' \n",
    "SELECT a.author,\n",
    "AVG(r.rating) AS avg_rating\n",
    "FROM ratings AS r\n",
    "JOIN books AS b ON b.book_id = r.book_id\n",
    "JOIN authors AS a ON a.author_id = b.author_id\n",
    "WHERE r.book_id IN (SELECT book_id\n",
    "                    FROM ratings \n",
    "                    GROUP BY book_id\n",
    "                    HAVING COUNT(book_id) >= 50)\n",
    "GROUP BY a.author\n",
    "ORDER BY avg_rating DESC\n",
    "LIMIT 1;\n",
    "\n",
    "''' \n",
    "request40 = pd.io.sql.read_sql(query40, con = engine)\n",
    "request40"
   ]
  },
  {
   "cell_type": "markdown",
   "id": "5897c71b",
   "metadata": {},
   "source": [
    "Автор с самой высокой средней оценкой книг(4,287) - **J.K. Rowling/Mary GrandPré** (среди авторов для книг с 50 и более оценками). Мари ГрандПре иллюстрировала все американские издания романов о Гарри Поттере автора Джоан Роулинг. \n",
    "\n",
    "Начиная с публикации первого романа «Гарри Поттер и философский камень» 26 июня 1997 года, книги серии обрели огромную популярность, признание критиков и коммерческий успех во всём мире. По состоянию на февраль 2018 года количество проданных книг составило около 500 миллионов экземпляров, вследствие чего серия вошла в список литературных бестселлеров. Романы переведены на 80 языков, в том числе на русский. Последние четыре книги последовательно поставили рекорды, как наиболее быстро продаваемые литературные произведения в истории. Поэтому неудивительно, что в нашей базе самая высокая средняя оценка среди книг с достаточно большим количеством оценок,  первое место принадлежит этой серии книг."
   ]
  },
  {
   "cell_type": "markdown",
   "id": "a25b6a38",
   "metadata": {},
   "source": [
    "## Посчитайте среднее количество обзоров от пользователей, которые поставили больше 50 оценок."
   ]
  },
  {
   "cell_type": "code",
   "execution_count": 12,
   "id": "54498aee",
   "metadata": {},
   "outputs": [
    {
     "data": {
      "text/html": [
       "<div>\n",
       "<style scoped>\n",
       "    .dataframe tbody tr th:only-of-type {\n",
       "        vertical-align: middle;\n",
       "    }\n",
       "\n",
       "    .dataframe tbody tr th {\n",
       "        vertical-align: top;\n",
       "    }\n",
       "\n",
       "    .dataframe thead th {\n",
       "        text-align: right;\n",
       "    }\n",
       "</style>\n",
       "<table border=\"1\" class=\"dataframe\">\n",
       "  <thead>\n",
       "    <tr style=\"text-align: right;\">\n",
       "      <th></th>\n",
       "      <th>avg</th>\n",
       "    </tr>\n",
       "  </thead>\n",
       "  <tbody>\n",
       "    <tr>\n",
       "      <th>0</th>\n",
       "      <td>24.333333</td>\n",
       "    </tr>\n",
       "  </tbody>\n",
       "</table>\n",
       "</div>"
      ],
      "text/plain": [
       "         avg\n",
       "0  24.333333"
      ]
     },
     "execution_count": 12,
     "metadata": {},
     "output_type": "execute_result"
    }
   ],
   "source": [
    "query5 = ''' \n",
    "WITH a AS (SELECT username,\n",
    "COUNT(review_id) AS review_cnt\n",
    "FROM reviews \n",
    "WHERE username IN (SELECT username\n",
    "FROM ratings\n",
    "GROUP BY username\n",
    "HAVING COUNT(rating_id) > 50)\n",
    "GROUP BY username) \n",
    "\n",
    "SELECT AVG(review_cnt)\n",
    "FROM a \n",
    "''' \n",
    "request5 = pd.io.sql.read_sql(query5, con = engine)\n",
    "request5"
   ]
  },
  {
   "cell_type": "markdown",
   "id": "7ad015f0",
   "metadata": {},
   "source": [
    "Пользователи, которые поставили больше 50 оценок в среднем писали 24 обзора."
   ]
  },
  {
   "cell_type": "markdown",
   "id": "2a4866cb",
   "metadata": {},
   "source": [
    "## Вывод."
   ]
  },
  {
   "cell_type": "markdown",
   "id": "e21587c8",
   "metadata": {},
   "source": [
    "- Большинство книг базы вышло после 1 января 2000 года -819 из 1000.\n",
    "\n",
    "- Количество обзоров на каждую книгу колеблется в диапазоне от 1 до 7. При среднем равном 3.\n",
    "\n",
    "- Средняя оценка на каждую книгу достаточно высокая - при диапазоне средней оценки от 1,5 до 5 среднее составляет 4-ех.\n",
    "\n",
    "- Издательство, которое выпустило наибольшее число книг толще 50 страниц - **Penguin Books**-  глобальная издательская компания, основанная около 90 лет назад. \n",
    "\n",
    "- Автор с самой высокой средней оценкой книг(4,287)- Джоан Роулинг, а именно серия книг о Гарри Поттере, иллюстрированная  Мари ГрандПре.\n",
    "\n",
    "- Среднее количество обзоров от пользователей, которые поставили больше 50 оценок составляет около 24 обзоров."
   ]
  }
 ],
 "metadata": {
  "ExecuteTimeLog": [
   {
    "duration": 486,
    "start_time": "2023-04-29T04:38:09.196Z"
   },
   {
    "duration": 4758,
    "start_time": "2023-04-29T04:38:09.683Z"
   },
   {
    "duration": 4,
    "start_time": "2023-04-29T04:38:14.443Z"
   },
   {
    "duration": 176,
    "start_time": "2023-04-29T04:38:14.449Z"
   },
   {
    "duration": 60,
    "start_time": "2023-04-29T04:47:49.048Z"
   },
   {
    "duration": 2,
    "start_time": "2023-04-29T04:48:47.875Z"
   },
   {
    "duration": 2,
    "start_time": "2023-04-29T04:49:12.687Z"
   },
   {
    "duration": 18,
    "start_time": "2023-04-29T04:49:57.663Z"
   },
   {
    "duration": 9,
    "start_time": "2023-04-29T04:50:47.982Z"
   },
   {
    "duration": 73,
    "start_time": "2023-04-29T05:03:30.780Z"
   },
   {
    "duration": 78,
    "start_time": "2023-04-29T05:05:31.505Z"
   },
   {
    "duration": 26,
    "start_time": "2023-04-29T05:09:21.170Z"
   },
   {
    "duration": 12,
    "start_time": "2023-04-29T05:10:49.774Z"
   },
   {
    "duration": 21,
    "start_time": "2023-04-29T05:11:43.170Z"
   },
   {
    "duration": 22,
    "start_time": "2023-04-29T05:13:25.414Z"
   },
   {
    "duration": 20,
    "start_time": "2023-04-29T05:13:33.634Z"
   },
   {
    "duration": 6,
    "start_time": "2023-04-29T05:13:55.497Z"
   },
   {
    "duration": 13,
    "start_time": "2023-04-29T05:16:34.496Z"
   },
   {
    "duration": 21,
    "start_time": "2023-04-29T05:16:42.227Z"
   },
   {
    "duration": 21,
    "start_time": "2023-04-29T05:19:25.562Z"
   },
   {
    "duration": 489,
    "start_time": "2023-04-29T05:19:42.889Z"
   },
   {
    "duration": 4483,
    "start_time": "2023-04-29T05:19:43.379Z"
   },
   {
    "duration": 4,
    "start_time": "2023-04-29T05:19:47.863Z"
   },
   {
    "duration": 135,
    "start_time": "2023-04-29T05:19:47.868Z"
   },
   {
    "duration": 58,
    "start_time": "2023-04-29T05:19:48.004Z"
   },
   {
    "duration": 1,
    "start_time": "2023-04-29T05:19:48.063Z"
   },
   {
    "duration": 0,
    "start_time": "2023-04-29T05:19:48.065Z"
   },
   {
    "duration": 0,
    "start_time": "2023-04-29T05:19:48.066Z"
   },
   {
    "duration": 14,
    "start_time": "2023-04-29T05:20:08.824Z"
   },
   {
    "duration": 51,
    "start_time": "2023-04-29T05:20:27.251Z"
   },
   {
    "duration": 53,
    "start_time": "2023-04-29T05:20:35.693Z"
   },
   {
    "duration": 4,
    "start_time": "2023-04-29T05:20:48.729Z"
   },
   {
    "duration": 52,
    "start_time": "2023-04-29T05:21:21.948Z"
   },
   {
    "duration": 4,
    "start_time": "2023-04-29T05:22:26.001Z"
   },
   {
    "duration": 7,
    "start_time": "2023-04-29T05:23:52.737Z"
   },
   {
    "duration": 20,
    "start_time": "2023-04-29T05:23:58.855Z"
   },
   {
    "duration": 11,
    "start_time": "2023-04-29T05:25:59.071Z"
   },
   {
    "duration": 78,
    "start_time": "2023-04-29T05:34:50.897Z"
   },
   {
    "duration": 68,
    "start_time": "2023-04-29T05:35:06.683Z"
   },
   {
    "duration": 56,
    "start_time": "2023-04-29T05:35:38.608Z"
   },
   {
    "duration": 491,
    "start_time": "2023-04-29T08:26:03.374Z"
   },
   {
    "duration": 7993,
    "start_time": "2023-04-29T08:26:03.867Z"
   },
   {
    "duration": 4,
    "start_time": "2023-04-29T08:26:11.862Z"
   },
   {
    "duration": 658,
    "start_time": "2023-04-29T08:26:11.868Z"
   },
   {
    "duration": 72,
    "start_time": "2023-04-29T08:26:12.528Z"
   },
   {
    "duration": 82,
    "start_time": "2023-04-29T08:26:12.601Z"
   },
   {
    "duration": 71,
    "start_time": "2023-04-29T08:26:12.684Z"
   },
   {
    "duration": 213,
    "start_time": "2023-04-29T08:26:12.757Z"
   },
   {
    "duration": 157,
    "start_time": "2023-04-29T08:27:37.334Z"
   },
   {
    "duration": 153,
    "start_time": "2023-04-29T08:32:40.106Z"
   },
   {
    "duration": 76,
    "start_time": "2023-04-29T08:32:56.100Z"
   },
   {
    "duration": 159,
    "start_time": "2023-04-29T08:33:35.512Z"
   },
   {
    "duration": 75,
    "start_time": "2023-04-29T08:34:09.046Z"
   },
   {
    "duration": 341,
    "start_time": "2023-04-29T08:40:41.564Z"
   },
   {
    "duration": 183,
    "start_time": "2023-04-29T08:41:21.580Z"
   },
   {
    "duration": 190,
    "start_time": "2023-04-29T08:41:46.446Z"
   },
   {
    "duration": 350,
    "start_time": "2023-04-29T08:42:30.346Z"
   },
   {
    "duration": 90,
    "start_time": "2023-04-29T08:42:54.160Z"
   },
   {
    "duration": 319,
    "start_time": "2023-04-29T08:44:58.844Z"
   },
   {
    "duration": 76,
    "start_time": "2023-04-29T08:45:17.123Z"
   },
   {
    "duration": 256,
    "start_time": "2023-04-29T08:53:49.009Z"
   },
   {
    "duration": 78,
    "start_time": "2023-04-29T08:54:17.889Z"
   },
   {
    "duration": 80,
    "start_time": "2023-04-29T08:57:39.591Z"
   },
   {
    "duration": 79,
    "start_time": "2023-04-29T09:00:01.859Z"
   },
   {
    "duration": 447,
    "start_time": "2023-04-29T09:02:43.007Z"
   },
   {
    "duration": 370,
    "start_time": "2023-04-29T09:03:15.392Z"
   },
   {
    "duration": 205,
    "start_time": "2023-04-29T09:03:33.554Z"
   },
   {
    "duration": 170,
    "start_time": "2023-04-29T09:04:12.548Z"
   },
   {
    "duration": 79,
    "start_time": "2023-04-29T09:04:31.868Z"
   },
   {
    "duration": 77,
    "start_time": "2023-04-29T09:07:11.290Z"
   },
   {
    "duration": 314,
    "start_time": "2023-04-29T09:18:01.478Z"
   },
   {
    "duration": 161,
    "start_time": "2023-04-29T09:18:35.608Z"
   },
   {
    "duration": 167,
    "start_time": "2023-04-29T09:19:00.781Z"
   },
   {
    "duration": 170,
    "start_time": "2023-04-29T09:19:52.641Z"
   },
   {
    "duration": 75,
    "start_time": "2023-04-29T09:20:08.759Z"
   },
   {
    "duration": 205,
    "start_time": "2023-04-29T09:20:40.822Z"
   },
   {
    "duration": 160,
    "start_time": "2023-04-29T09:20:51.789Z"
   },
   {
    "duration": 163,
    "start_time": "2023-04-29T09:21:21.502Z"
   },
   {
    "duration": 550,
    "start_time": "2023-04-30T07:53:40.885Z"
   },
   {
    "duration": 10078,
    "start_time": "2023-04-30T07:53:41.440Z"
   },
   {
    "duration": 5,
    "start_time": "2023-04-30T07:53:51.520Z"
   },
   {
    "duration": 757,
    "start_time": "2023-04-30T07:53:51.527Z"
   },
   {
    "duration": 78,
    "start_time": "2023-04-30T07:53:52.287Z"
   },
   {
    "duration": 88,
    "start_time": "2023-04-30T07:53:52.368Z"
   },
   {
    "duration": 76,
    "start_time": "2023-04-30T07:53:52.458Z"
   },
   {
    "duration": 79,
    "start_time": "2023-04-30T07:53:52.536Z"
   },
   {
    "duration": 80,
    "start_time": "2023-04-30T07:53:52.618Z"
   },
   {
    "duration": 190,
    "start_time": "2023-04-30T07:53:52.701Z"
   },
   {
    "duration": 0,
    "start_time": "2023-04-30T07:53:52.893Z"
   },
   {
    "duration": 393,
    "start_time": "2023-04-30T07:55:07.842Z"
   },
   {
    "duration": 174,
    "start_time": "2023-04-30T07:55:34.424Z"
   },
   {
    "duration": 176,
    "start_time": "2023-04-30T07:56:37.810Z"
   },
   {
    "duration": 167,
    "start_time": "2023-04-30T07:56:47.249Z"
   },
   {
    "duration": 183,
    "start_time": "2023-04-30T07:57:20.641Z"
   },
   {
    "duration": 83,
    "start_time": "2023-04-30T08:06:26.110Z"
   },
   {
    "duration": 105,
    "start_time": "2023-04-30T08:07:03.004Z"
   },
   {
    "duration": 99,
    "start_time": "2023-04-30T08:07:18.284Z"
   },
   {
    "duration": 84,
    "start_time": "2023-04-30T08:10:13.503Z"
   },
   {
    "duration": 23,
    "start_time": "2023-04-30T08:38:18.125Z"
   },
   {
    "duration": 82,
    "start_time": "2023-05-01T10:01:27.309Z"
   },
   {
    "duration": 63,
    "start_time": "2023-05-01T10:01:37.711Z"
   },
   {
    "duration": 48,
    "start_time": "2023-05-01T10:02:11.742Z"
   },
   {
    "duration": 571,
    "start_time": "2023-05-01T10:02:19.398Z"
   },
   {
    "duration": 8789,
    "start_time": "2023-05-01T10:02:19.971Z"
   },
   {
    "duration": 4,
    "start_time": "2023-05-01T10:02:28.762Z"
   },
   {
    "duration": 678,
    "start_time": "2023-05-01T10:02:28.768Z"
   },
   {
    "duration": 74,
    "start_time": "2023-05-01T10:02:29.449Z"
   },
   {
    "duration": 85,
    "start_time": "2023-05-01T10:02:29.526Z"
   },
   {
    "duration": 18,
    "start_time": "2023-05-01T10:02:29.613Z"
   },
   {
    "duration": 75,
    "start_time": "2023-05-01T10:02:29.633Z"
   },
   {
    "duration": 77,
    "start_time": "2023-05-01T10:02:29.710Z"
   },
   {
    "duration": 79,
    "start_time": "2023-05-01T10:02:29.789Z"
   },
   {
    "duration": 79,
    "start_time": "2023-05-01T10:02:29.870Z"
   },
   {
    "duration": 78,
    "start_time": "2023-05-01T10:02:29.951Z"
   },
   {
    "duration": 276,
    "start_time": "2023-05-01T10:06:57.517Z"
   },
   {
    "duration": 77,
    "start_time": "2023-05-01T10:07:13.000Z"
   },
   {
    "duration": 164,
    "start_time": "2023-05-01T10:11:19.730Z"
   },
   {
    "duration": 193,
    "start_time": "2023-05-01T10:17:31.143Z"
   },
   {
    "duration": 2,
    "start_time": "2023-05-01T10:25:19.098Z"
   },
   {
    "duration": 158,
    "start_time": "2023-05-01T10:25:40.753Z"
   },
   {
    "duration": 178,
    "start_time": "2023-05-01T10:25:59.618Z"
   },
   {
    "duration": 165,
    "start_time": "2023-05-01T10:26:12.802Z"
   },
   {
    "duration": 167,
    "start_time": "2023-05-01T10:27:14.739Z"
   },
   {
    "duration": 80,
    "start_time": "2023-05-01T10:27:44.414Z"
   },
   {
    "duration": 85,
    "start_time": "2023-05-01T10:28:15.998Z"
   },
   {
    "duration": 189,
    "start_time": "2023-05-01T10:30:54.400Z"
   },
   {
    "duration": 186,
    "start_time": "2023-05-01T10:31:11.897Z"
   },
   {
    "duration": 163,
    "start_time": "2023-05-01T10:31:57.730Z"
   },
   {
    "duration": 207,
    "start_time": "2023-05-01T10:32:02.505Z"
   },
   {
    "duration": 165,
    "start_time": "2023-05-01T10:32:40.860Z"
   },
   {
    "duration": 98,
    "start_time": "2023-05-01T10:33:19.809Z"
   }
  ],
  "kernelspec": {
   "display_name": "Python 3 (ipykernel)",
   "language": "python",
   "name": "python3"
  },
  "language_info": {
   "codemirror_mode": {
    "name": "ipython",
    "version": 3
   },
   "file_extension": ".py",
   "mimetype": "text/x-python",
   "name": "python",
   "nbconvert_exporter": "python",
   "pygments_lexer": "ipython3",
   "version": "3.9.12"
  },
  "toc": {
   "base_numbering": 1,
   "nav_menu": {},
   "number_sections": true,
   "sideBar": true,
   "skip_h1_title": true,
   "title_cell": "Содержание",
   "title_sidebar": "Содержание",
   "toc_cell": true,
   "toc_position": {},
   "toc_section_display": true,
   "toc_window_display": true
  }
 },
 "nbformat": 4,
 "nbformat_minor": 5
}
